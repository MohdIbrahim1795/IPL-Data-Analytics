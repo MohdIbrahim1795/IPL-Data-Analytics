{
 "cells": [
  {
   "cell_type": "code",
   "execution_count": 2,
   "id": "5405cdb9",
   "metadata": {},
   "outputs": [],
   "source": [
    "import os\n",
    "\n",
    "# 1. Explicitly set JAVA_HOME and PATH inside the notebook\n",
    "os.environ[\"JAVA_HOME\"] = r\"C:\\Users\\ibrah\\AppData\\Local\\Programs\\Eclipse Adoptium\\jdk-11.0.26.4-hotspot\"\n",
    "os.environ[\"PATH\"] = os.environ[\"JAVA_HOME\"] + r\"\\bin;\" + os.environ[\"PATH\"]\n"
   ]
  },
  {
   "cell_type": "code",
   "execution_count": 3,
   "id": "ff0e2c54",
   "metadata": {},
   "outputs": [],
   "source": [
    "try:\n",
    "    import findspark\n",
    "    findspark.init()\n",
    "except ImportError:\n",
    "    !pip install findspark\n",
    "    import findspark\n",
    "    findspark.init()"
   ]
  },
  {
   "cell_type": "code",
   "execution_count": 4,
   "id": "a6915549",
   "metadata": {},
   "outputs": [
    {
     "name": "stdout",
     "output_type": "stream",
     "text": [
      "Spark version: 3.5.5\n"
     ]
    }
   ],
   "source": [
    "# 3. Now safely create SparkSession\n",
    "from pyspark.sql import SparkSession\n",
    "\n",
    "spark = SparkSession.builder \\\n",
    "    .appName(\"CricketAnalytics\") \\\n",
    "    .master(\"local[*]\") \\\n",
    "    .getOrCreate()\n",
    "\n",
    "# 4. Print Spark Version to confirm it's working\n",
    "print(\"Spark version:\", spark.version)"
   ]
  },
  {
   "cell_type": "code",
   "execution_count": 38,
   "id": "540655ed",
   "metadata": {},
   "outputs": [],
   "source": [
    "from pyspark.sql.functions import col, sum, count, when, avg, expr, year, month, dayofmonth, when, lower, regexp_replace,trim\n",
    "\n",
    "from pyspark.sql.window import Window"
   ]
  },
  {
   "cell_type": "code",
   "execution_count": 11,
   "id": "01d548c9",
   "metadata": {},
   "outputs": [],
   "source": [
    "from pyspark.sql.types import StructType, StructField, StringType, IntegerType, FloatType, BooleanType, DateType, DecimalType"
   ]
  },
  {
   "cell_type": "code",
   "execution_count": 7,
   "id": "2eada3fc",
   "metadata": {},
   "outputs": [],
   "source": [
    "ball_by_ball_schema = StructType([\n",
    "    StructField(\"match_id\", IntegerType(), True),\n",
    "    StructField(\"over_id\", IntegerType(), True),\n",
    "    StructField(\"ball_id\", IntegerType(), True),\n",
    "    StructField(\"innings_no\", IntegerType(), True),\n",
    "    StructField(\"team_batting\", StringType(), True),\n",
    "    StructField(\"team_bowling\", StringType(), True),\n",
    "    StructField(\"striker_batting_position\", IntegerType(), True),\n",
    "    StructField(\"extra_type\", StringType(), True),\n",
    "    StructField(\"runs_scored\", IntegerType(), True),\n",
    "    StructField(\"extra_runs\", IntegerType(), True),\n",
    "    StructField(\"wides\", IntegerType(), True),\n",
    "    StructField(\"legbyes\", IntegerType(), True),\n",
    "    StructField(\"byes\", IntegerType(), True),\n",
    "    StructField(\"noballs\", IntegerType(), True),\n",
    "    StructField(\"penalty\", IntegerType(), True),\n",
    "    StructField(\"bowler_extras\", IntegerType(), True),\n",
    "    StructField(\"out_type\", StringType(), True),\n",
    "    StructField(\"caught\", BooleanType(), True),\n",
    "    StructField(\"bowled\", BooleanType(), True),\n",
    "    StructField(\"run_out\", BooleanType(), True),\n",
    "    StructField(\"lbw\", BooleanType(), True),\n",
    "    StructField(\"retired_hurt\", BooleanType(), True),\n",
    "    StructField(\"stumped\", BooleanType(), True),\n",
    "    StructField(\"caught_and_bowled\", BooleanType(), True),\n",
    "    StructField(\"hit_wicket\", BooleanType(), True),\n",
    "    StructField(\"obstructingfeild\", BooleanType(), True),\n",
    "    StructField(\"bowler_wicket\", BooleanType(), True),\n",
    "    StructField(\"match_date\", DateType(), True),\n",
    "    StructField(\"season\", IntegerType(), True),\n",
    "    StructField(\"striker\", IntegerType(), True),\n",
    "    StructField(\"non_striker\", IntegerType(), True),\n",
    "    StructField(\"bowler\", IntegerType(), True),\n",
    "    StructField(\"player_out\", IntegerType(), True),\n",
    "    StructField(\"fielders\", IntegerType(), True),\n",
    "    StructField(\"striker_match_sk\", IntegerType(), True),\n",
    "    StructField(\"strikersk\", IntegerType(), True),\n",
    "    StructField(\"nonstriker_match_sk\", IntegerType(), True),\n",
    "    StructField(\"nonstriker_sk\", IntegerType(), True),\n",
    "    StructField(\"fielder_match_sk\", IntegerType(), True),\n",
    "    StructField(\"fielder_sk\", IntegerType(), True),\n",
    "    StructField(\"bowler_match_sk\", IntegerType(), True),\n",
    "    StructField(\"bowler_sk\", IntegerType(), True),\n",
    "    StructField(\"playerout_match_sk\", IntegerType(), True),\n",
    "    StructField(\"battingteam_sk\", IntegerType(), True),\n",
    "    StructField(\"bowlingteam_sk\", IntegerType(), True),\n",
    "    StructField(\"keeper_catch\", BooleanType(), True),\n",
    "    StructField(\"player_out_sk\", IntegerType(), True),\n",
    "    StructField(\"matchdatesk\", DateType(), True)\n",
    "])\n"
   ]
  },
  {
   "cell_type": "code",
   "execution_count": 8,
   "id": "18865067",
   "metadata": {},
   "outputs": [],
   "source": [
    "ball_by_ball_df = spark.read.schema(ball_by_ball_schema).format(\"csv\").option(\"header\",\"true\").load(\"Ball_By_Ball.csv\")"
   ]
  },
  {
   "cell_type": "code",
   "execution_count": 9,
   "id": "25434e8f",
   "metadata": {},
   "outputs": [
    {
     "name": "stdout",
     "output_type": "stream",
     "text": [
      "+--------+-------+-------+----------+------------+------------+------------------------+----------+-----------+----------+-----+-------+----+-------+-------+-------------+--------------+------+------+-------+----+------------+-------+-----------------+----------+----------------+-------------+----------+------+-------+-----------+------+----------+--------+----------------+---------+-------------------+-------------+----------------+----------+---------------+---------+------------------+--------------+--------------+------------+-------------+-----------+\n",
      "|match_id|over_id|ball_id|innings_no|team_batting|team_bowling|striker_batting_position|extra_type|runs_scored|extra_runs|wides|legbyes|byes|noballs|penalty|bowler_extras|      out_type|caught|bowled|run_out| lbw|retired_hurt|stumped|caught_and_bowled|hit_wicket|obstructingfeild|bowler_wicket|match_date|season|striker|non_striker|bowler|player_out|fielders|striker_match_sk|strikersk|nonstriker_match_sk|nonstriker_sk|fielder_match_sk|fielder_sk|bowler_match_sk|bowler_sk|playerout_match_sk|battingteam_sk|bowlingteam_sk|keeper_catch|player_out_sk|matchdatesk|\n",
      "+--------+-------+-------+----------+------------+------------+------------------------+----------+-----------+----------+-----+-------+----+-------+-------+-------------+--------------+------+------+-------+----+------------+-------+-----------------+----------+----------------+-------------+----------+------+-------+-----------+------+----------+--------+----------------+---------+-------------------+-------------+----------------+----------+---------------+---------+------------------+--------------+--------------+------------+-------------+-----------+\n",
      "|  598028|     15|      6|         1|           5|           2|                       6| No Extras|          4|         0|    0|      0|   0|      0|      0|            0|Not Applicable|  NULL|  NULL|   NULL|NULL|        NULL|   NULL|             NULL|      NULL|            NULL|         NULL|      NULL|  2013|    277|        104|    83|      NULL|    NULL|           20336|      276|              20333|          103|              -1|        -1|          20343|       82|                -1|             4|             1|        NULL|            0|       NULL|\n",
      "|  598028|     14|      1|         1|           5|           2|                       5| No Extras|          1|         0|    0|      0|   0|      0|      0|            0|Not Applicable|  NULL|  NULL|   NULL|NULL|        NULL|   NULL|             NULL|      NULL|            NULL|         NULL|      NULL|  2013|    104|          6|   346|      NULL|    NULL|           20333|      103|              20328|            5|              -1|        -1|          20348|      345|                -1|             4|             1|        NULL|            0|       NULL|\n",
      "|  598028|     14|      2|         1|           5|           2|                       3| No Extras|          1|         0|    0|      0|   0|      0|      0|            0|Not Applicable|  NULL|  NULL|   NULL|NULL|        NULL|   NULL|             NULL|      NULL|            NULL|         NULL|      NULL|  2013|      6|        104|   346|      NULL|    NULL|           20328|        5|              20333|          103|              -1|        -1|          20348|      345|                -1|             4|             1|        NULL|            0|       NULL|\n",
      "|  598028|     14|      3|         1|           5|           2|                       5| No Extras|          1|         0|    0|      0|   0|      0|      0|            0|Not Applicable|  NULL|  NULL|   NULL|NULL|        NULL|   NULL|             NULL|      NULL|            NULL|         NULL|      NULL|  2013|    104|          6|   346|      NULL|    NULL|           20333|      103|              20328|            5|              -1|        -1|          20348|      345|                -1|             4|             1|        NULL|            0|       NULL|\n",
      "|  598028|     14|      4|         1|           5|           2|                       3| No Extras|          0|         0|    0|      0|   0|      0|      0|            0|Not Applicable|  NULL|  NULL|   NULL|NULL|        NULL|   NULL|             NULL|      NULL|            NULL|         NULL|      NULL|  2013|      6|        104|   346|      NULL|    NULL|           20328|        5|              20333|          103|              -1|        -1|          20348|      345|                -1|             4|             1|        NULL|            0|       NULL|\n",
      "+--------+-------+-------+----------+------------+------------+------------------------+----------+-----------+----------+-----+-------+----+-------+-------+-------------+--------------+------+------+-------+----+------------+-------+-----------------+----------+----------------+-------------+----------+------+-------+-----------+------+----------+--------+----------------+---------+-------------------+-------------+----------------+----------+---------------+---------+------------------+--------------+--------------+------------+-------------+-----------+\n",
      "only showing top 5 rows\n",
      "\n"
     ]
    }
   ],
   "source": [
    "ball_by_ball_df.show(5)"
   ]
  },
  {
   "cell_type": "code",
   "execution_count": 12,
   "id": "9acd5737",
   "metadata": {},
   "outputs": [],
   "source": [
    "match_schema = StructType([\n",
    "    StructField(\"match_sk\", IntegerType(), True),\n",
    "    StructField(\"match_id\", IntegerType(), True),\n",
    "    StructField(\"team1\", StringType(), True),\n",
    "    StructField(\"team2\", StringType(), True),\n",
    "    StructField(\"match_date\", DateType(), True),\n",
    "    StructField(\"season_year\", IntegerType(), True),\n",
    "    StructField(\"venue_name\", StringType(), True),\n",
    "    StructField(\"city_name\", StringType(), True),\n",
    "    StructField(\"country_name\", StringType(), True),\n",
    "    StructField(\"toss_winner\", StringType(), True),\n",
    "    StructField(\"match_winner\", StringType(), True),\n",
    "    StructField(\"toss_name\", StringType(), True),\n",
    "    StructField(\"win_type\", StringType(), True),\n",
    "    StructField(\"outcome_type\", StringType(), True),\n",
    "    StructField(\"manofmach\", StringType(), True),\n",
    "    StructField(\"win_margin\", IntegerType(), True),\n",
    "    StructField(\"country_id\", IntegerType(), True)\n",
    "])\n",
    "match_df = spark.read.schema(match_schema).format(\"csv\").option(\"header\",\"true\").load(\"Match.csv\")\n",
    "\n",
    "     "
   ]
  },
  {
   "cell_type": "code",
   "execution_count": 13,
   "id": "8dea6cf6",
   "metadata": {},
   "outputs": [],
   "source": [
    "player_schema = StructType([\n",
    "    StructField(\"player_sk\", IntegerType(), True),\n",
    "    StructField(\"player_id\", IntegerType(), True),\n",
    "    StructField(\"player_name\", StringType(), True),\n",
    "    StructField(\"dob\", DateType(), True),\n",
    "    StructField(\"batting_hand\", StringType(), True),\n",
    "    StructField(\"bowling_skill\", StringType(), True),\n",
    "    StructField(\"country_name\", StringType(), True)\n",
    "])\n",
    "\n",
    "player_df = spark.read.schema(player_schema).format(\"csv\").option(\"header\",\"true\").load(\"Player.csv\")\n"
   ]
  },
  {
   "cell_type": "code",
   "execution_count": 14,
   "id": "a81a75f1",
   "metadata": {},
   "outputs": [],
   "source": [
    "player_match_schema = StructType([\n",
    "    StructField(\"player_match_sk\", IntegerType(), True),\n",
    "    StructField(\"playermatch_key\", DecimalType(), True),\n",
    "    StructField(\"match_id\", IntegerType(), True),\n",
    "    StructField(\"player_id\", IntegerType(), True),\n",
    "    StructField(\"player_name\", StringType(), True),\n",
    "    StructField(\"dob\", DateType(), True),\n",
    "    StructField(\"batting_hand\", StringType(), True),\n",
    "    StructField(\"bowling_skill\", StringType(), True),\n",
    "    StructField(\"country_name\", StringType(), True),\n",
    "    StructField(\"role_desc\", StringType(), True),\n",
    "    StructField(\"player_team\", StringType(), True),\n",
    "    StructField(\"opposit_team\", StringType(), True),\n",
    "    StructField(\"season_year\", IntegerType(), True),\n",
    "    StructField(\"is_manofthematch\", BooleanType(), True),\n",
    "    StructField(\"age_as_on_match\", IntegerType(), True),\n",
    "    StructField(\"isplayers_team_won\", BooleanType(), True),\n",
    "    StructField(\"batting_status\", StringType(), True),\n",
    "    StructField(\"bowling_status\", StringType(), True),\n",
    "    StructField(\"player_captain\", StringType(), True),\n",
    "    StructField(\"opposit_captain\", StringType(), True),\n",
    "    StructField(\"player_keeper\", StringType(), True),\n",
    "    StructField(\"opposit_keeper\", StringType(), True)\n",
    "])\n",
    "\n",
    "player_match_df = spark.read.schema(player_match_schema).format(\"csv\").option(\"header\",\"true\").load(\"Player_match.csv\")\n"
   ]
  },
  {
   "cell_type": "code",
   "execution_count": 15,
   "id": "c631a3bf",
   "metadata": {},
   "outputs": [],
   "source": [
    "team_schema = StructType([\n",
    "    StructField(\"team_sk\", IntegerType(), True),\n",
    "    StructField(\"team_id\", IntegerType(), True),\n",
    "    StructField(\"team_name\", StringType(), True)\n",
    "])\n",
    "\n",
    "team_df = spark.read.schema(team_schema).format(\"csv\").option(\"header\",\"true\").load(\"Team.csv\")\n",
    "     "
   ]
  },
  {
   "cell_type": "code",
   "execution_count": 16,
   "id": "43e30baa",
   "metadata": {},
   "outputs": [
    {
     "name": "stdout",
     "output_type": "stream",
     "text": [
      "+--------+-------+-------+----------+------------+------------+------------------------+----------+-----------+----------+-----+-------+----+-------+-------+-------------+--------------+------+------+-------+----+------------+-------+-----------------+----------+----------------+-------------+----------+------+-------+-----------+------+----------+--------+----------------+---------+-------------------+-------------+----------------+----------+---------------+---------+------------------+--------------+--------------+------------+-------------+-----------+\n",
      "|match_id|over_id|ball_id|innings_no|team_batting|team_bowling|striker_batting_position|extra_type|runs_scored|extra_runs|wides|legbyes|byes|noballs|penalty|bowler_extras|      out_type|caught|bowled|run_out| lbw|retired_hurt|stumped|caught_and_bowled|hit_wicket|obstructingfeild|bowler_wicket|match_date|season|striker|non_striker|bowler|player_out|fielders|striker_match_sk|strikersk|nonstriker_match_sk|nonstriker_sk|fielder_match_sk|fielder_sk|bowler_match_sk|bowler_sk|playerout_match_sk|battingteam_sk|bowlingteam_sk|keeper_catch|player_out_sk|matchdatesk|\n",
      "+--------+-------+-------+----------+------------+------------+------------------------+----------+-----------+----------+-----+-------+----+-------+-------+-------------+--------------+------+------+-------+----+------------+-------+-----------------+----------+----------------+-------------+----------+------+-------+-----------+------+----------+--------+----------------+---------+-------------------+-------------+----------------+----------+---------------+---------+------------------+--------------+--------------+------------+-------------+-----------+\n",
      "|  598028|     15|      6|         1|           5|           2|                       6| No Extras|          4|         0|    0|      0|   0|      0|      0|            0|Not Applicable|  NULL|  NULL|   NULL|NULL|        NULL|   NULL|             NULL|      NULL|            NULL|         NULL|      NULL|  2013|    277|        104|    83|      NULL|    NULL|           20336|      276|              20333|          103|              -1|        -1|          20343|       82|                -1|             4|             1|        NULL|            0|       NULL|\n",
      "|  598028|     14|      1|         1|           5|           2|                       5| No Extras|          1|         0|    0|      0|   0|      0|      0|            0|Not Applicable|  NULL|  NULL|   NULL|NULL|        NULL|   NULL|             NULL|      NULL|            NULL|         NULL|      NULL|  2013|    104|          6|   346|      NULL|    NULL|           20333|      103|              20328|            5|              -1|        -1|          20348|      345|                -1|             4|             1|        NULL|            0|       NULL|\n",
      "|  598028|     14|      2|         1|           5|           2|                       3| No Extras|          1|         0|    0|      0|   0|      0|      0|            0|Not Applicable|  NULL|  NULL|   NULL|NULL|        NULL|   NULL|             NULL|      NULL|            NULL|         NULL|      NULL|  2013|      6|        104|   346|      NULL|    NULL|           20328|        5|              20333|          103|              -1|        -1|          20348|      345|                -1|             4|             1|        NULL|            0|       NULL|\n",
      "|  598028|     14|      3|         1|           5|           2|                       5| No Extras|          1|         0|    0|      0|   0|      0|      0|            0|Not Applicable|  NULL|  NULL|   NULL|NULL|        NULL|   NULL|             NULL|      NULL|            NULL|         NULL|      NULL|  2013|    104|          6|   346|      NULL|    NULL|           20333|      103|              20328|            5|              -1|        -1|          20348|      345|                -1|             4|             1|        NULL|            0|       NULL|\n",
      "|  598028|     14|      4|         1|           5|           2|                       3| No Extras|          0|         0|    0|      0|   0|      0|      0|            0|Not Applicable|  NULL|  NULL|   NULL|NULL|        NULL|   NULL|             NULL|      NULL|            NULL|         NULL|      NULL|  2013|      6|        104|   346|      NULL|    NULL|           20328|        5|              20333|          103|              -1|        -1|          20348|      345|                -1|             4|             1|        NULL|            0|       NULL|\n",
      "+--------+-------+-------+----------+------------+------------+------------------------+----------+-----------+----------+-----+-------+----+-------+-------+-------------+--------------+------+------+-------+----+------------+-------+-----------------+----------+----------------+-------------+----------+------+-------+-----------+------+----------+--------+----------------+---------+-------------------+-------------+----------------+----------+---------------+---------+------------------+--------------+--------------+------------+-------------+-----------+\n",
      "only showing top 5 rows\n",
      "\n"
     ]
    }
   ],
   "source": [
    "ball_by_ball_df.show(5)"
   ]
  },
  {
   "cell_type": "code",
   "execution_count": 17,
   "id": "fdc6ce38",
   "metadata": {},
   "outputs": [
    {
     "name": "stdout",
     "output_type": "stream",
     "text": [
      "+--------+-------+-------+----------+------------+------------+------------------------+----------+-----------+----------+-----+-------+----+-------+-------+-------------+--------------+------+------+-------+----+------------+-------+-----------------+----------+----------------+-------------+----------+------+-------+-----------+------+----------+--------+----------------+---------+-------------------+-------------+----------------+----------+---------------+---------+------------------+--------------+--------------+------------+-------------+-----------+\n",
      "|match_id|over_id|ball_id|innings_no|team_batting|team_bowling|striker_batting_position|extra_type|runs_scored|extra_runs|wides|legbyes|byes|noballs|penalty|bowler_extras|      out_type|caught|bowled|run_out| lbw|retired_hurt|stumped|caught_and_bowled|hit_wicket|obstructingfeild|bowler_wicket|match_date|season|striker|non_striker|bowler|player_out|fielders|striker_match_sk|strikersk|nonstriker_match_sk|nonstriker_sk|fielder_match_sk|fielder_sk|bowler_match_sk|bowler_sk|playerout_match_sk|battingteam_sk|bowlingteam_sk|keeper_catch|player_out_sk|matchdatesk|\n",
      "+--------+-------+-------+----------+------------+------------+------------------------+----------+-----------+----------+-----+-------+----+-------+-------+-------------+--------------+------+------+-------+----+------------+-------+-----------------+----------+----------------+-------------+----------+------+-------+-----------+------+----------+--------+----------------+---------+-------------------+-------------+----------------+----------+---------------+---------+------------------+--------------+--------------+------------+-------------+-----------+\n",
      "|  598063|     11|      2|         2|           5|           3|                       6|     wides|          0|         1|    1|      0|   0|      0|      0|            1|Not Applicable|  NULL|  NULL|   NULL|NULL|        NULL|   NULL|             NULL|      NULL|            NULL|         NULL|      NULL|  2013|    255|         32|   201|      NULL|    NULL|           21104|      254|              21099|           31|              -1|        -1|          21116|      200|                -1|             4|             2|        NULL|            0|       NULL|\n",
      "|  829720|     17|      5|         2|           5|           6|                       6|     wides|          0|         1|    1|      0|   0|      0|      0|            1|Not Applicable|  NULL|  NULL|   NULL|NULL|        NULL|   NULL|             NULL|      NULL|            NULL|         NULL|      NULL|  2015|    394|        310|   136|      NULL|    NULL|           22901|      393|              22895|          309|              -1|        -1|          22882|      135|                -1|             4|             5|        NULL|            0|       NULL|\n",
      "|  829720|     18|      4|         2|           5|           6|                       6|     wides|          0|         1|    1|      0|   0|      0|      0|            1|Not Applicable|  NULL|  NULL|   NULL|NULL|        NULL|   NULL|             NULL|      NULL|            NULL|         NULL|      NULL|  2015|    394|        310|   371|      NULL|    NULL|           22901|      393|              22895|          309|              -1|        -1|          22888|      370|                -1|             4|             5|        NULL|            0|       NULL|\n",
      "|  829720|     11|      3|         2|           5|           6|                       1|     wides|          0|         1|    1|      0|   0|      0|      0|            1|Not Applicable|  NULL|  NULL|   NULL|NULL|        NULL|   NULL|             NULL|      NULL|            NULL|         NULL|      NULL|  2015|     85|        255|   386|      NULL|    NULL|           22892|       84|              22893|          254|              -1|        -1|          22889|      385|                -1|             4|             5|        NULL|            0|       NULL|\n",
      "|  829720|     12|      1|         2|           5|           6|                       6|     wides|          0|         1|    1|      0|   0|      0|      0|            1|Not Applicable|  NULL|  NULL|   NULL|NULL|        NULL|   NULL|             NULL|      NULL|            NULL|         NULL|      NULL|  2015|    394|         85|   136|      NULL|    NULL|           22901|      393|              22892|           84|              -1|        -1|          22882|      135|                -1|             4|             5|        NULL|            0|       NULL|\n",
      "|  829720|     13|      3|         2|           5|           6|                       1|     wides|          0|         1|    1|      0|   0|      0|      0|            1|Not Applicable|  NULL|  NULL|   NULL|NULL|        NULL|   NULL|             NULL|      NULL|            NULL|         NULL|      NULL|  2015|     85|        394|   191|      NULL|    NULL|           22892|       84|              22901|          393|              -1|        -1|          22884|      190|                -1|             4|             5|        NULL|            0|       NULL|\n",
      "|  829782|      3|      2|         1|           5|           6|                       2|     wides|          0|         1|    1|      0|   0|      0|      0|            1|Not Applicable|  NULL|  NULL|   NULL|NULL|        NULL|   NULL|             NULL|      NULL|            NULL|         NULL|      NULL|  2015|     32|         85|    15|      NULL|    NULL|           23551|       31|              23553|           84|              -1|        -1|          23540|       14|                -1|             4|             5|        NULL|            0|       NULL|\n",
      "|  829782|      3|      4|         1|           5|           6|                       2|     wides|          0|         1|    1|      0|   0|      0|      0|            1|Not Applicable|  NULL|  NULL|   NULL|NULL|        NULL|   NULL|             NULL|      NULL|            NULL|         NULL|      NULL|  2015|     32|         85|    15|      NULL|    NULL|           23551|       31|              23553|           84|              -1|        -1|          23540|       14|                -1|             4|             5|        NULL|            0|       NULL|\n",
      "|  829782|     16|      3|         1|           5|           6|                       1|     wides|          0|         1|    1|      0|   0|      0|      0|            1|Not Applicable|  NULL|  NULL|   NULL|NULL|        NULL|   NULL|             NULL|      NULL|            NULL|         NULL|      NULL|  2015|     85|        339|   136|      NULL|    NULL|           23553|       84|              23558|          338|              -1|        -1|          23543|      135|                -1|             4|             5|        NULL|            0|       NULL|\n",
      "|  829774|     20|      5|         2|           5|           7|                       7|   noballs|          1|         1|    0|      0|   0|      1|      0|            1|       run out|  NULL|  NULL|   NULL|NULL|        NULL|   NULL|             NULL|      NULL|            NULL|         NULL|      NULL|  2015|    255|        377|    81|       377|     221|           23467|      254|              23472|          376|           23458|       220|          23455|       80|             23472|             4|             6|        NULL|            0|       NULL|\n",
      "+--------+-------+-------+----------+------------+------------+------------------------+----------+-----------+----------+-----+-------+----+-------+-------+-------------+--------------+------+------+-------+----+------------+-------+-----------------+----------+----------------+-------------+----------+------+-------+-----------+------+----------+--------+----------------+---------+-------------------+-------------+----------------+----------+---------------+---------+------------------+--------------+--------------+------------+-------------+-----------+\n",
      "only showing top 10 rows\n",
      "\n"
     ]
    }
   ],
   "source": [
    "# Filter to include only valid deliveries (excluding extras like wides and no balls for specific analyses)\n",
    "ball_by_ball_df_filtered = ball_by_ball_df.filter((col(\"wides\") == 1) | (col(\"noballs\")==1))\n",
    "ball_by_ball_df_filtered.show(10)"
   ]
  },
  {
   "cell_type": "code",
   "execution_count": 21,
   "id": "60954459",
   "metadata": {},
   "outputs": [
    {
     "name": "stdout",
     "output_type": "stream",
     "text": [
      "+--------+-------+-------+----------+------------+------------+------------------------+----------+-----------+----------+-----+-------+----+-------+-------+-------------+--------------+------+------+-------+----+------------+-------+-----------------+----------+----------------+-------------+----------+------+-------+-----------+------+----------+--------+----------------+---------+-------------------+-------------+----------------+----------+---------------+---------+------------------+--------------+--------------+------------+-------------+-----------+------------------+\n",
      "|match_id|over_id|ball_id|innings_no|team_batting|team_bowling|striker_batting_position|extra_type|runs_scored|extra_runs|wides|legbyes|byes|noballs|penalty|bowler_extras|      out_type|caught|bowled|run_out| lbw|retired_hurt|stumped|caught_and_bowled|hit_wicket|obstructingfeild|bowler_wicket|match_date|season|striker|non_striker|bowler|player_out|fielders|striker_match_sk|strikersk|nonstriker_match_sk|nonstriker_sk|fielder_match_sk|fielder_sk|bowler_match_sk|bowler_sk|playerout_match_sk|battingteam_sk|bowlingteam_sk|keeper_catch|player_out_sk|matchdatesk|running_total_runs|\n",
      "+--------+-------+-------+----------+------------+------------+------------------------+----------+-----------+----------+-----+-------+----+-------+-------+-------------+--------------+------+------+-------+----+------------+-------+-----------------+----------+----------------+-------------+----------+------+-------+-----------+------+----------+--------+----------------+---------+-------------------+-------------+----------------+----------+---------------+---------+------------------+--------------+--------------+------------+-------------+-----------+------------------+\n",
      "|  335990|      1|      1|         2|           2|           7|                       1| No Extras|          0|         0|    0|      0|   0|      0|      0|            0|Not Applicable|  NULL|  NULL|   NULL|NULL|        NULL|   NULL|             NULL|      NULL|            NULL|         NULL|      NULL|  2008|     51|          6|    73|      NULL|    NULL|           12779|       50|              12771|            5|              -1|        -1|          12769|       72|                -1|             1|             6|        NULL|            0|       NULL|                10|\n",
      "|  335990|      1|      2|         2|           2|           7|                       1| No Extras|          1|         0|    0|      0|   0|      0|      0|            0|Not Applicable|  NULL|  NULL|   NULL|NULL|        NULL|   NULL|             NULL|      NULL|            NULL|         NULL|      NULL|  2008|     51|          6|    73|      NULL|    NULL|           12779|       50|              12771|            5|              -1|        -1|          12769|       72|                -1|             1|             6|        NULL|            0|       NULL|                10|\n",
      "|  335990|      1|      3|         2|           2|           7|                       2| No Extras|          0|         0|    0|      0|   0|      0|      0|            0|Not Applicable|  NULL|  NULL|   NULL|NULL|        NULL|   NULL|             NULL|      NULL|            NULL|         NULL|      NULL|  2008|      6|         51|    73|      NULL|    NULL|           12771|        5|              12779|           50|              -1|        -1|          12769|       72|                -1|             1|             6|        NULL|            0|       NULL|                10|\n",
      "|  335990|      1|      4|         2|           2|           7|                       2| No Extras|          1|         0|    0|      0|   0|      0|      0|            0|Not Applicable|  NULL|  NULL|   NULL|NULL|        NULL|   NULL|             NULL|      NULL|            NULL|         NULL|      NULL|  2008|      6|         51|    73|      NULL|    NULL|           12771|        5|              12779|           50|              -1|        -1|          12769|       72|                -1|             1|             6|        NULL|            0|       NULL|                10|\n",
      "|  335990|      1|      5|         2|           2|           7|                       1| No Extras|          4|         0|    0|      0|   0|      0|      0|            0|Not Applicable|  NULL|  NULL|   NULL|NULL|        NULL|   NULL|             NULL|      NULL|            NULL|         NULL|      NULL|  2008|     51|          6|    73|      NULL|    NULL|           12779|       50|              12771|            5|              -1|        -1|          12769|       72|                -1|             1|             6|        NULL|            0|       NULL|                10|\n",
      "|  335990|      1|      6|         2|           2|           7|                       1| No Extras|          4|         0|    0|      0|   0|      0|      0|            0|Not Applicable|  NULL|  NULL|   NULL|NULL|        NULL|   NULL|             NULL|      NULL|            NULL|         NULL|      NULL|  2008|     51|          6|    73|      NULL|    NULL|           12779|       50|              12771|            5|              -1|        -1|          12769|       72|                -1|             1|             6|        NULL|            0|       NULL|                10|\n",
      "|  335990|      2|      1|         2|           2|           7|                       2| No Extras|          0|         0|    0|      0|   0|      0|      0|            0|Not Applicable|  NULL|  NULL|   NULL|NULL|        NULL|   NULL|             NULL|      NULL|            NULL|         NULL|      NULL|  2008|      6|         51|    49|      NULL|    NULL|           12771|        5|              12779|           50|              -1|        -1|          12766|       48|                -1|             1|             6|        NULL|            0|       NULL|                11|\n",
      "|  335990|      2|      2|         2|           2|           7|                       2| No Extras|          0|         0|    0|      0|   0|      0|      0|            0|Not Applicable|  NULL|  NULL|   NULL|NULL|        NULL|   NULL|             NULL|      NULL|            NULL|         NULL|      NULL|  2008|      6|         51|    49|      NULL|    NULL|           12771|        5|              12779|           50|              -1|        -1|          12766|       48|                -1|             1|             6|        NULL|            0|       NULL|                11|\n",
      "|  335990|      2|      3|         2|           2|           7|                       2| No Extras|          0|         0|    0|      0|   0|      0|      0|            0|Not Applicable|  NULL|  NULL|   NULL|NULL|        NULL|   NULL|             NULL|      NULL|            NULL|         NULL|      NULL|  2008|      6|         51|    49|      NULL|    NULL|           12771|        5|              12779|           50|              -1|        -1|          12766|       48|                -1|             1|             6|        NULL|            0|       NULL|                11|\n",
      "|  335990|      2|      4|         2|           2|           7|                       2| No Extras|          0|         0|    0|      0|   0|      0|      0|            0|Not Applicable|  NULL|  NULL|   NULL|NULL|        NULL|   NULL|             NULL|      NULL|            NULL|         NULL|      NULL|  2008|      6|         51|    49|      NULL|    NULL|           12771|        5|              12779|           50|              -1|        -1|          12766|       48|                -1|             1|             6|        NULL|            0|       NULL|                11|\n",
      "|  335990|      2|      5|         2|           2|           7|                       2| No Extras|          0|         0|    0|      0|   0|      0|      0|            0|Not Applicable|  NULL|  NULL|   NULL|NULL|        NULL|   NULL|             NULL|      NULL|            NULL|         NULL|      NULL|  2008|      6|         51|    49|      NULL|    NULL|           12771|        5|              12779|           50|              -1|        -1|          12766|       48|                -1|             1|             6|        NULL|            0|       NULL|                11|\n",
      "|  335990|      2|      6|         2|           2|           7|                       2| No Extras|          1|         0|    0|      0|   0|      0|      0|            0|Not Applicable|  NULL|  NULL|   NULL|NULL|        NULL|   NULL|             NULL|      NULL|            NULL|         NULL|      NULL|  2008|      6|         51|    49|      NULL|    NULL|           12771|        5|              12779|           50|              -1|        -1|          12766|       48|                -1|             1|             6|        NULL|            0|       NULL|                11|\n",
      "|  335990|      3|      2|         2|           2|           7|                       2| No Extras|          4|         0|    0|      0|   0|      0|      0|            0|Not Applicable|  NULL|  NULL|   NULL|NULL|        NULL|   NULL|             NULL|      NULL|            NULL|         NULL|      NULL|  2008|      6|         51|    73|      NULL|    NULL|           12771|        5|              12779|           50|              -1|        -1|          12769|       72|                -1|             1|             6|        NULL|            0|       NULL|                22|\n",
      "|  335990|      3|      3|         2|           2|           7|                       2| No Extras|          1|         0|    0|      0|   0|      0|      0|            0|Not Applicable|  NULL|  NULL|   NULL|NULL|        NULL|   NULL|             NULL|      NULL|            NULL|         NULL|      NULL|  2008|      6|         51|    73|      NULL|    NULL|           12771|        5|              12779|           50|              -1|        -1|          12769|       72|                -1|             1|             6|        NULL|            0|       NULL|                22|\n",
      "|  335990|      3|      4|         2|           2|           7|                       1| No Extras|          1|         0|    0|      0|   0|      0|      0|            0|Not Applicable|  NULL|  NULL|   NULL|NULL|        NULL|   NULL|             NULL|      NULL|            NULL|         NULL|      NULL|  2008|     51|          6|    73|      NULL|    NULL|           12779|       50|              12771|            5|              -1|        -1|          12769|       72|                -1|             1|             6|        NULL|            0|       NULL|                22|\n",
      "|  335990|      3|      5|         2|           2|           7|                       2| No Extras|          4|         0|    0|      0|   0|      0|      0|            0|Not Applicable|  NULL|  NULL|   NULL|NULL|        NULL|   NULL|             NULL|      NULL|            NULL|         NULL|      NULL|  2008|      6|         51|    73|      NULL|    NULL|           12771|        5|              12779|           50|              -1|        -1|          12769|       72|                -1|             1|             6|        NULL|            0|       NULL|                22|\n",
      "|  335990|      3|      6|         2|           2|           7|                       2| No Extras|          1|         0|    0|      0|   0|      0|      0|            0|Not Applicable|  NULL|  NULL|   NULL|NULL|        NULL|   NULL|             NULL|      NULL|            NULL|         NULL|      NULL|  2008|      6|         51|    73|      NULL|    NULL|           12771|        5|              12779|           50|              -1|        -1|          12769|       72|                -1|             1|             6|        NULL|            0|       NULL|                22|\n",
      "|  335990|      3|      1|         2|           2|           7|                       2| No Extras|          0|         0|    0|      0|   0|      0|      0|            0|Not Applicable|  NULL|  NULL|   NULL|NULL|        NULL|   NULL|             NULL|      NULL|            NULL|         NULL|      NULL|  2008|      6|         51|    73|      NULL|    NULL|           12771|        5|              12779|           50|              -1|        -1|          12769|       72|                -1|             1|             6|        NULL|            0|       NULL|                22|\n",
      "|  335990|      4|      1|         2|           2|           7|                       2| No Extras|          0|         0|    0|      0|   0|      0|      0|            0|Not Applicable|  NULL|  NULL|   NULL|NULL|        NULL|   NULL|             NULL|      NULL|            NULL|         NULL|      NULL|  2008|      6|         51|    49|      NULL|    NULL|           12771|        5|              12779|           50|              -1|        -1|          12766|       48|                -1|             1|             6|        NULL|            0|       NULL|                27|\n",
      "|  335990|      4|      2|         2|           2|           7|                       2| No Extras|          1|         0|    0|      0|   0|      0|      0|            0|Not Applicable|  NULL|  NULL|   NULL|NULL|        NULL|   NULL|             NULL|      NULL|            NULL|         NULL|      NULL|  2008|      6|         51|    49|      NULL|    NULL|           12771|        5|              12779|           50|              -1|        -1|          12766|       48|                -1|             1|             6|        NULL|            0|       NULL|                27|\n",
      "+--------+-------+-------+----------+------------+------------+------------------------+----------+-----------+----------+-----+-------+----+-------+-------+-------------+--------------+------+------+-------+----+------------+-------+-----------------+----------+----------------+-------------+----------+------+-------+-----------+------+----------+--------+----------------+---------+-------------------+-------------+----------------+----------+---------------+---------+------------------+--------------+--------------+------------+-------------+-----------+------------------+\n",
      "only showing top 20 rows\n",
      "\n"
     ]
    }
   ],
   "source": [
    "\n",
    "# Window Function: Calculate running total of runs in each match for each over\n",
    "windowSpec = Window.partitionBy(\"match_id\",\"innings_no\").orderBy(\"over_id\")\n",
    "\n",
    "Score_over_inn_match = ball_by_ball_df.withColumn(\n",
    "    \"running_total_runs\",\n",
    "    sum(\"runs_scored\").over(windowSpec)\n",
    ")\n",
    "\n",
    "Score_over_inn_match.show()"
   ]
  },
  {
   "cell_type": "code",
   "execution_count": 24,
   "id": "a949b9fd",
   "metadata": {},
   "outputs": [
    {
     "name": "stdout",
     "output_type": "stream",
     "text": [
      "+--------+----------+----------+\n",
      "|match_id|innings_no|total_runs|\n",
      "+--------+----------+----------+\n",
      "|  335987|         1|       222|\n",
      "|  335987|         2|        82|\n",
      "|  335988|         1|       240|\n",
      "|  335988|         2|       207|\n",
      "|  335989|         1|       125|\n",
      "|  335989|         2|       132|\n",
      "|  335990|         1|       165|\n",
      "|  335990|         2|       166|\n",
      "|  335991|         1|       110|\n",
      "|  335991|         2|       112|\n",
      "|  335992|         1|       166|\n",
      "|  335992|         2|       168|\n",
      "|  335993|         1|       142|\n",
      "|  335993|         2|       143|\n",
      "|  335994|         1|       208|\n",
      "|  335994|         2|       202|\n",
      "|  335995|         1|       214|\n",
      "|  335995|         2|       217|\n",
      "|  335996|         1|       182|\n",
      "|  335996|         2|       116|\n",
      "+--------+----------+----------+\n",
      "only showing top 20 rows\n",
      "\n"
     ]
    }
   ],
   "source": [
    "ball_by_ball_df = ball_by_ball_df.withColumn(\"Total_run_scored_per_ball\",(col(\"runs_scored\") + col(\"extra_runs\")))\n",
    "Total_run_scored_per_match = ball_by_ball_df.groupby(\"match_id\",\"innings_no\").agg(\n",
    "    sum(\"Total_run_scored_per_ball\").alias(\"total_runs\")\n",
    ").orderBy(\"match_id\", \"innings_no\")\n",
    "Total_run_scored_per_match.show()"
   ]
  },
  {
   "cell_type": "code",
   "execution_count": 25,
   "id": "96dcec2f",
   "metadata": {},
   "outputs": [
    {
     "name": "stdout",
     "output_type": "stream",
     "text": [
      "+--------+--------+--------------------+--------------------+----------+-----------+--------------------+----------+------------+--------------------+--------------------+---------+--------+------------+-------------+----------+----------+\n",
      "|match_sk|match_id|               team1|               team2|match_date|season_year|          venue_name| city_name|country_name|         toss_winner|        match_winner|toss_name|win_type|outcome_type|    manofmach|win_margin|country_id|\n",
      "+--------+--------+--------------------+--------------------+----------+-----------+--------------------+----------+------------+--------------------+--------------------+---------+--------+------------+-------------+----------+----------+\n",
      "|       0|  335987|Royal Challengers...|Kolkata Knight Ri...|      NULL|       2008|M Chinnaswamy Sta...| Bangalore|       India|Royal Challengers...|Kolkata Knight Ri...|    field|    runs|      Result|  BB McCullum|       140|         1|\n",
      "|       1|  335988|     Kings XI Punjab| Chennai Super Kings|      NULL|       2008|Punjab Cricket As...|Chandigarh|       India| Chennai Super Kings| Chennai Super Kings|      bat|    runs|      Result|   MEK Hussey|        33|         1|\n",
      "|       2|  335989|    Delhi Daredevils|    Rajasthan Royals|      NULL|       2008|    Feroz Shah Kotla|     Delhi|       India|    Rajasthan Royals|    Delhi Daredevils|      bat| wickets|      Result|  MF Maharoof|         9|         1|\n",
      "|       3|  335990|      Mumbai Indians|Royal Challengers...|      NULL|       2008|    Wankhede Stadium|    Mumbai|       India|      Mumbai Indians|Royal Challengers...|      bat| wickets|      Result|   MV Boucher|         5|         1|\n",
      "|       4|  335991|Kolkata Knight Ri...|     Deccan Chargers|      NULL|       2008|        Eden Gardens|   Kolkata|       India|     Deccan Chargers|Kolkata Knight Ri...|      bat| wickets|      Result|    DJ Hussey|         5|         1|\n",
      "|       5|  335992|    Rajasthan Royals|     Kings XI Punjab|      NULL|       2008|Sawai Mansingh St...|    Jaipur|       India|     Kings XI Punjab|    Rajasthan Royals|      bat| wickets|      Result|    SR Watson|         6|         1|\n",
      "|       6|  335993|     Deccan Chargers|    Delhi Daredevils|      NULL|       2008|Rajiv Gandhi Inte...| Hyderabad|       India|     Deccan Chargers|    Delhi Daredevils|      bat| wickets|      Result|     V Sehwag|         9|         1|\n",
      "|       7|  335994| Chennai Super Kings|      Mumbai Indians|      NULL|       2008|MA Chidambaram St...|   Chennai|       India|      Mumbai Indians| Chennai Super Kings|    field|    runs|      Result|    ML Hayden|         6|         1|\n",
      "|       8|  335995|     Deccan Chargers|    Rajasthan Royals|      NULL|       2008|Rajiv Gandhi Inte...| Hyderabad|       India|    Rajasthan Royals|    Rajasthan Royals|    field| wickets|      Result|    YK Pathan|         3|         1|\n",
      "|       9|  335996|     Kings XI Punjab|      Mumbai Indians|      NULL|       2008|Punjab Cricket As...|Chandigarh|       India|      Mumbai Indians|     Kings XI Punjab|    field|    runs|      Result|KC Sangakkara|        66|         1|\n",
      "|      10|  335997|Royal Challengers...|    Rajasthan Royals|      NULL|       2008|M Chinnaswamy Sta...| Bangalore|       India|    Rajasthan Royals|    Rajasthan Royals|    field| wickets|      Result|    SR Watson|         7|         1|\n",
      "|      11|  335998| Chennai Super Kings|Kolkata Knight Ri...|      NULL|       2008|MA Chidambaram St...|   Chennai|       India|Kolkata Knight Ri...| Chennai Super Kings|      bat| wickets|      Result|     JDP Oram|         9|         1|\n",
      "|      12|  335999|      Mumbai Indians|     Deccan Chargers|      NULL|       2008|Dr DY Patil Sport...|    Mumbai|       India|     Deccan Chargers|     Deccan Chargers|    field| wickets|      Result| AC Gilchrist|        10|         1|\n",
      "|      13|  336000|     Kings XI Punjab|    Delhi Daredevils|      NULL|       2008|Punjab Cricket As...|Chandigarh|       India|    Delhi Daredevils|     Kings XI Punjab|      bat| wickets|      Result|    SM Katich|         4|         1|\n",
      "|      14|  336001|Royal Challengers...| Chennai Super Kings|      NULL|       2008|M Chinnaswamy Sta...| Bangalore|       India| Chennai Super Kings| Chennai Super Kings|      bat|    runs|      Result|     MS Dhoni|        13|         1|\n",
      "|      15|  336002|Kolkata Knight Ri...|      Mumbai Indians|      NULL|       2008|        Eden Gardens|   Kolkata|       India|Kolkata Knight Ri...|      Mumbai Indians|      bat| wickets|      Result|ST Jayasuriya|         7|         1|\n",
      "|      16|  336003|    Delhi Daredevils|Royal Challengers...|      NULL|       2008|    Feroz Shah Kotla|     Delhi|       India|Royal Challengers...|    Delhi Daredevils|    field|    runs|      Result|   GD McGrath|        10|         1|\n",
      "|      17|  336004|     Deccan Chargers|     Kings XI Punjab|      NULL|       2008|Rajiv Gandhi Inte...| Hyderabad|       India|     Kings XI Punjab|     Kings XI Punjab|    field| wickets|      Result|     SE Marsh|         7|         1|\n",
      "|      18|  336005|    Rajasthan Royals|Kolkata Knight Ri...|      NULL|       2008|Sawai Mansingh St...|    Jaipur|       India|    Rajasthan Royals|    Rajasthan Royals|      bat|    runs|      Result|  SA Asnodkar|        45|         1|\n",
      "|      19|  336006| Chennai Super Kings|    Delhi Daredevils|      NULL|       2008|MA Chidambaram St...|   Chennai|       India| Chennai Super Kings|    Delhi Daredevils|      bat| wickets|      Result|     V Sehwag|         8|         1|\n",
      "+--------+--------+--------------------+--------------------+----------+-----------+--------------------+----------+------------+--------------------+--------------------+---------+--------+------------+-------------+----------+----------+\n",
      "only showing top 20 rows\n",
      "\n"
     ]
    }
   ],
   "source": [
    "match_df.show(20)"
   ]
  },
  {
   "cell_type": "code",
   "execution_count": null,
   "id": "443b10ff",
   "metadata": {},
   "outputs": [
    {
     "name": "stdout",
     "output_type": "stream",
     "text": [
      "+--------+--------+--------------------+--------------------+----------+-----------+--------------------+----------+------------+--------------------+--------------------+---------+--------+------------+-----------+----------+----------+----+-----+----+-------------------+-----------------+\n",
      "|match_sk|match_id|               team1|               team2|match_date|season_year|          venue_name| city_name|country_name|         toss_winner|        match_winner|toss_name|win_type|outcome_type|  manofmach|win_margin|country_id|year|month| day|win_margin_category|toss_match_winner|\n",
      "+--------+--------+--------------------+--------------------+----------+-----------+--------------------+----------+------------+--------------------+--------------------+---------+--------+------------+-----------+----------+----------+----+-----+----+-------------------+-----------------+\n",
      "|       0|  335987|Royal Challengers...|Kolkata Knight Ri...|      NULL|       2008|M Chinnaswamy Sta...| Bangalore|       India|Royal Challengers...|Kolkata Knight Ri...|    field|    runs|      Result|BB McCullum|       140|         1|NULL| NULL|NULL|               High|               No|\n",
      "|       1|  335988|     Kings XI Punjab| Chennai Super Kings|      NULL|       2008|Punjab Cricket As...|Chandigarh|       India| Chennai Super Kings| Chennai Super Kings|      bat|    runs|      Result| MEK Hussey|        33|         1|NULL| NULL|NULL|                Low|              Yes|\n",
      "+--------+--------+--------------------+--------------------+----------+-----------+--------------------+----------+------------+--------------------+--------------------+---------+--------+------------+-----------+----------+----------+----+-----+----+-------------------+-----------------+\n",
      "only showing top 2 rows\n",
      "\n"
     ]
    }
   ],
   "source": [
    "# Extracting year, month, and day from the match date for more detailed time-based analysis\n",
    "match_df = match_df.withColumn(\"year\", year(\"match_date\"))\n",
    "match_df = match_df.withColumn(\"month\", month(\"match_date\"))\n",
    "match_df = match_df.withColumn(\"day\", dayofmonth(\"match_date\"))\n",
    "\n",
    "# High margin win: categorizing win margins into 'high', 'medium', and 'low'\n",
    "match_df = match_df.withColumn(\n",
    "    \"win_margin_category\",\n",
    "    when(col(\"win_margin\") >= 100, \"High\")\n",
    "    .when((col(\"win_margin\") >= 50) & (col(\"win_margin\") < 100), \"Medium\")\n",
    "    .otherwise(\"Low\")\n",
    ")\n",
    "\n",
    "# Analyze the impact of the toss: who wins the toss and the match\n",
    "match_df = match_df.withColumn(\n",
    "    \"toss_match_winner\",\n",
    "    when(col(\"toss_winner\") == col(\"match_winner\"), \"Yes\").otherwise(\"No\")\n",
    ")\n",
    "\n",
    "\n",
    "# Show the enhanced match DataFrame\n",
    "match_df.show(2)"
   ]
  },
  {
   "cell_type": "code",
   "execution_count": 31,
   "id": "f343cfdd",
   "metadata": {},
   "outputs": [
    {
     "name": "stdout",
     "output_type": "stream",
     "text": [
      "+---------+---------+-----------+----+--------------+----------------+------------+-------------+\n",
      "|player_sk|player_id|player_name| dob|  batting_hand|   bowling_skill|country_name|batting_style|\n",
      "+---------+---------+-----------+----+--------------+----------------+------------+-------------+\n",
      "|        0|        1| sc ganguly|NULL| Left-hand bat|Right-arm medium|       India|  Left-Handed|\n",
      "|        1|        2|bb mccullum|NULL|Right-hand bat|Right-arm medium| New Zealand| Right-Handed|\n",
      "+---------+---------+-----------+----+--------------+----------------+------------+-------------+\n",
      "only showing top 2 rows\n",
      "\n"
     ]
    }
   ],
   "source": [
    "# Normalize and clean player names\n",
    "player_df = player_df.withColumn(\"player_name\", lower(regexp_replace(\"player_name\", \"[^a-zA-Z0-9 ]\", \"\")))\n",
    "\n",
    "# Handle missing values in 'batting_hand' and 'bowling_skill' with a default 'unknown'\n",
    "player_df = player_df.na.fill({\"batting_hand\": \"unknown\", \"bowling_skill\": \"unknown\"})\n",
    "\n",
    "# Categorizing players based on batting hand\n",
    "player_df = player_df.withColumn(\n",
    "    \"batting_style\",\n",
    "    when(col(\"batting_hand\").contains(\"Left\"), \"Left-Handed\").otherwise(\"Right-Handed\")\n",
    ")\n",
    "\n",
    "# Show the modified player DataFrame\n",
    "player_df.show(2)"
   ]
  },
  {
   "cell_type": "code",
   "execution_count": 42,
   "id": "fea9eb7d",
   "metadata": {},
   "outputs": [],
   "source": [
    "# === CLEANING ===\n",
    "\n",
    "# 1. Clean Ball_By_Ball\n",
    "ball_df = ball_by_ball_df.dropna(subset=[\"match_id\", \"striker\", \"bowler\"])\n",
    "ball_df = ball_df.withColumn(\"runs_scored\", col(\"runs_scored\").cast(IntegerType())) \\\n",
    "                 .withColumn(\"extra_runs\", col(\"extra_runs\").cast(IntegerType()))\n",
    "\n",
    "# 2. Clean Match\n",
    "match_df = match_df.withColumn(\"match_date\", col(\"match_date\").cast(DateType())) \\\n",
    "                   .dropDuplicates([\"match_id\"])\n",
    "\n",
    "# 3. Clean Player\n",
    "player_df = player_df.withColumn(\"player_name\", trim(col(\"player_name\"))) \\\n",
    "                     .withColumn(\"dob\", col(\"dob\").cast(DateType()))\n",
    "\n",
    "# 4. Clean Player_match\n",
    "player_match_df = player_match_df.dropna(subset=[\"match_id\", \"player_id\"]) \\\n",
    "    .withColumn(\"is_keeper\", col(\"player_keeper\").cast(BooleanType())) \\\n",
    "    .withColumn(\"is_captain\", col(\"player_captain\").cast(BooleanType()))\n",
    "\n",
    "# 5. Clean Team\n",
    "team_df = team_df.withColumn(\"team_name\", trim(col(\"team_name\"))) \\\n",
    "                 .dropna(subset=[\"team_id\"]) \\\n",
    "                 .dropDuplicates([\"team_id\"])"
   ]
  },
  {
   "cell_type": "code",
   "execution_count": null,
   "id": "e7383f68",
   "metadata": {},
   "outputs": [],
   "source": []
  },
  {
   "cell_type": "code",
   "execution_count": null,
   "id": "060d03a0",
   "metadata": {},
   "outputs": [],
   "source": []
  },
  {
   "cell_type": "code",
   "execution_count": null,
   "id": "4ef9d337",
   "metadata": {},
   "outputs": [],
   "source": []
  },
  {
   "cell_type": "code",
   "execution_count": null,
   "id": "ee8acd57",
   "metadata": {},
   "outputs": [],
   "source": []
  },
  {
   "cell_type": "code",
   "execution_count": null,
   "id": "525a9f74",
   "metadata": {},
   "outputs": [],
   "source": []
  },
  {
   "cell_type": "code",
   "execution_count": null,
   "id": "16607caa",
   "metadata": {},
   "outputs": [],
   "source": []
  },
  {
   "cell_type": "code",
   "execution_count": null,
   "id": "516fe49c",
   "metadata": {},
   "outputs": [],
   "source": []
  },
  {
   "cell_type": "code",
   "execution_count": null,
   "id": "dd230b28",
   "metadata": {},
   "outputs": [],
   "source": []
  }
 ],
 "metadata": {
  "kernelspec": {
   "display_name": "Python (menv)",
   "language": "python",
   "name": "menv"
  },
  "language_info": {
   "codemirror_mode": {
    "name": "ipython",
    "version": 3
   },
   "file_extension": ".py",
   "mimetype": "text/x-python",
   "name": "python",
   "nbconvert_exporter": "python",
   "pygments_lexer": "ipython3",
   "version": "3.12.5"
  }
 },
 "nbformat": 4,
 "nbformat_minor": 5
}
